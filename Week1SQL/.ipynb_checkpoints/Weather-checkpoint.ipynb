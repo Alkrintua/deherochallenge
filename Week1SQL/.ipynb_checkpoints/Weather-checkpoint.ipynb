{
 "cells": [
  {
   "cell_type": "code",
   "execution_count": 5,
   "id": "991a37a4",
   "metadata": {},
   "outputs": [],
   "source": [
    "import requests\n",
    "import sqlite3\n",
    "import json\n",
    "import pandas as pd\n",
    "\n",
    "\n",
    "response = requests.get('http://api.openweathermap.org/data/2.5/weather?q=Kyiv&appid=854bfd100cd66f846501327373fc6a02&units=metric&lang=en')\n",
    "weather_data = response.json()"
   ]
  },
  {
   "cell_type": "code",
   "execution_count": 6,
   "id": "e8b7e2fb",
   "metadata": {},
   "outputs": [
    {
     "data": {
      "text/plain": [
       "{'coord': {'lon': 30.5167, 'lat': 50.4333},\n",
       " 'weather': [{'id': 802,\n",
       "   'main': 'Clouds',\n",
       "   'description': 'scattered clouds',\n",
       "   'icon': '03d'}],\n",
       " 'base': 'stations',\n",
       " 'main': {'temp': 1.51,\n",
       "  'feels_like': 1.51,\n",
       "  'temp_min': 1.51,\n",
       "  'temp_max': 3.14,\n",
       "  'pressure': 1012,\n",
       "  'humidity': 96,\n",
       "  'sea_level': 1012,\n",
       "  'grnd_level': 995},\n",
       " 'visibility': 10000,\n",
       " 'wind': {'speed': 0.45, 'deg': 317, 'gust': 1.34},\n",
       " 'clouds': {'all': 41},\n",
       " 'dt': 1736579172,\n",
       " 'sys': {'type': 2,\n",
       "  'id': 2003742,\n",
       "  'country': 'UA',\n",
       "  'sunrise': 1736574899,\n",
       "  'sunset': 1736604976},\n",
       " 'timezone': 7200,\n",
       " 'id': 703448,\n",
       " 'name': 'Kyiv',\n",
       " 'cod': 200}"
      ]
     },
     "execution_count": 6,
     "metadata": {},
     "output_type": "execute_result"
    }
   ],
   "source": [
    "weather_data"
   ]
  },
  {
   "cell_type": "code",
   "execution_count": 9,
   "id": "5653aa87",
   "metadata": {},
   "outputs": [],
   "source": [
    "conn = sqlite3.connect('weather.db')\n",
    "cursor = conn.cursor()"
   ]
  },
  {
   "cell_type": "code",
   "execution_count": 10,
   "id": "60b5d783",
   "metadata": {},
   "outputs": [
    {
     "data": {
      "text/plain": [
       "<sqlite3.Cursor at 0x2c630fff8f0>"
      ]
     },
     "execution_count": 10,
     "metadata": {},
     "output_type": "execute_result"
    }
   ],
   "source": [
    "cursor.execute('''\n",
    "CREATE TABLE IF NOT EXISTS weather (\n",
    "    id INTEGER PRIMARY KEY,\n",
    "    city TEXT,\n",
    "    temperature REAL,\n",
    "    description TEXT,\n",
    "    data JSON\n",
    ")\n",
    "''')"
   ]
  },
  {
   "cell_type": "code",
   "execution_count": 11,
   "id": "bbf875c7",
   "metadata": {},
   "outputs": [
    {
     "data": {
      "text/plain": [
       "<sqlite3.Cursor at 0x2c630fff8f0>"
      ]
     },
     "execution_count": 11,
     "metadata": {},
     "output_type": "execute_result"
    }
   ],
   "source": [
    "cursor.execute('''\n",
    "INSERT INTO weather (city, temperature, description, data)\n",
    "VALUES (?, ?, ?, ?)\n",
    "''', (\n",
    "    weather_data['name'],\n",
    "    weather_data['main']['temp'],\n",
    "    weather_data['weather'][0]['description'],\n",
    "    json.dumps(weather_data)\n",
    "))"
   ]
  },
  {
   "cell_type": "code",
   "execution_count": 12,
   "id": "a78d83f9",
   "metadata": {},
   "outputs": [],
   "source": [
    "conn.commit()\n",
    "conn.close()"
   ]
  },
  {
   "cell_type": "code",
   "execution_count": 19,
   "id": "41623a99",
   "metadata": {},
   "outputs": [],
   "source": [
    "query = \"\"\"\n",
    "SELECT\n",
    "    city,\n",
    "    json_extract(data, '$.weather[0].description') AS description\n",
    "FROM\n",
    "    weather;\n",
    "\"\"\""
   ]
  },
  {
   "cell_type": "code",
   "execution_count": 14,
   "id": "03788497",
   "metadata": {},
   "outputs": [],
   "source": [
    "conn = sqlite3.connect('weather.db')"
   ]
  },
  {
   "cell_type": "code",
   "execution_count": 20,
   "id": "183b2f47",
   "metadata": {},
   "outputs": [],
   "source": [
    "df = pd.read_sql_query(query, conn)"
   ]
  },
  {
   "cell_type": "code",
   "execution_count": 21,
   "id": "d4955ea7",
   "metadata": {},
   "outputs": [
    {
     "data": {
      "text/html": [
       "<div>\n",
       "<style scoped>\n",
       "    .dataframe tbody tr th:only-of-type {\n",
       "        vertical-align: middle;\n",
       "    }\n",
       "\n",
       "    .dataframe tbody tr th {\n",
       "        vertical-align: top;\n",
       "    }\n",
       "\n",
       "    .dataframe thead th {\n",
       "        text-align: right;\n",
       "    }\n",
       "</style>\n",
       "<table border=\"1\" class=\"dataframe\">\n",
       "  <thead>\n",
       "    <tr style=\"text-align: right;\">\n",
       "      <th></th>\n",
       "      <th>id</th>\n",
       "      <th>city</th>\n",
       "      <th>temperature</th>\n",
       "      <th>description</th>\n",
       "      <th>data</th>\n",
       "    </tr>\n",
       "  </thead>\n",
       "  <tbody>\n",
       "    <tr>\n",
       "      <th>0</th>\n",
       "      <td>1</td>\n",
       "      <td>Kyiv</td>\n",
       "      <td>8.73</td>\n",
       "      <td>moderate rain</td>\n",
       "      <td>{\"coord\": {\"lon\": 30.5167, \"lat\": 50.4333}, \"w...</td>\n",
       "    </tr>\n",
       "  </tbody>\n",
       "</table>\n",
       "</div>"
      ],
      "text/plain": [
       "   id  city  temperature    description  \\\n",
       "0   1  Kyiv         8.73  moderate rain   \n",
       "\n",
       "                                                data  \n",
       "0  {\"coord\": {\"lon\": 30.5167, \"lat\": 50.4333}, \"w...  "
      ]
     },
     "execution_count": 21,
     "metadata": {},
     "output_type": "execute_result"
    }
   ],
   "source": [
    "df"
   ]
  },
  {
   "cell_type": "code",
   "execution_count": null,
   "id": "a9b276e6",
   "metadata": {},
   "outputs": [],
   "source": []
  }
 ],
 "metadata": {
  "kernelspec": {
   "display_name": "Python 3 (ipykernel)",
   "language": "python",
   "name": "python3"
  },
  "language_info": {
   "codemirror_mode": {
    "name": "ipython",
    "version": 3
   },
   "file_extension": ".py",
   "mimetype": "text/x-python",
   "name": "python",
   "nbconvert_exporter": "python",
   "pygments_lexer": "ipython3",
   "version": "3.12.8"
  }
 },
 "nbformat": 4,
 "nbformat_minor": 5
}
